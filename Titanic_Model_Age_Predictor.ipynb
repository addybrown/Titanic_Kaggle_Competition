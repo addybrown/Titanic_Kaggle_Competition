{
 "cells": [
  {
   "cell_type": "code",
   "execution_count": 1,
   "metadata": {},
   "outputs": [],
   "source": [
    "import pandas as pd \n",
    "import numpy as np \n",
    "import seaborn as sns"
   ]
  },
  {
   "cell_type": "code",
   "execution_count": null,
   "metadata": {},
   "outputs": [],
   "source": [
    "'''\n",
    "    This Kernel is used to predict the missing values associated with Age from the test data. The problem with just \n",
    "    randomizing the data is that Age is shown to affect the survival outcome quite a bit as shown in the Data Analysis Kernel\n",
    "    since Age is not going to be directly fed into the networks, rather the age group, a simple supervised neural network can \n",
    "    likely be used to some level of accuracy to predict the Age, which hopefully translates to the appropriate age group. \n",
    "    Note this method for sure has issues but should be a better approach than just simply guessing random values. \n",
    "    Please suggest better methods if possible \n",
    "    This next three jupyter notebook blocks are functions to feature some of the necessary values that I believe affect age\n",
    "'''"
   ]
  },
  {
   "cell_type": "code",
   "execution_count": 2,
   "metadata": {},
   "outputs": [],
   "source": [
    "def getTitle(value):\n",
    "    if \"Rev.\" in value:\n",
    "        return 1\n",
    "    elif \"Col.\" in value:\n",
    "        return 2\n",
    "    elif \"Mr.\" in value:\n",
    "        return 3\n",
    "    elif \"Dr.\" in value:\n",
    "        return 4\n",
    "    elif \"Master\" in value:\n",
    "        return 5\n",
    "    elif \"Miss\" in value or \"Mlle\" in value:\n",
    "        return 6\n",
    "    elif \"Mrs.\" in value or \"Mme\" in value:\n",
    "        return 7\n",
    "    else:\n",
    "        return 0"
   ]
  },
  {
   "cell_type": "code",
   "execution_count": 3,
   "metadata": {},
   "outputs": [],
   "source": [
    "def getAgeGroup(value):\n",
    "    if value<=8:\n",
    "        return 1\n",
    "    if value>8 and value<=14:\n",
    "        return 2\n",
    "    if value >14 and value<=28:\n",
    "        return 3\n",
    "    if value >28 and value<=63:\n",
    "        return 4\n",
    "    if value >63:\n",
    "        return 5"
   ]
  },
  {
   "cell_type": "code",
   "execution_count": 4,
   "metadata": {},
   "outputs": [],
   "source": [
    "def getFareGroup(value):\n",
    "    if value<=10:\n",
    "        return 1\n",
    "    if value>10 and value<=25:\n",
    "        return 2\n",
    "    if value >25 and value<=35:\n",
    "        return 3\n",
    "    if value >35 and value<=60:\n",
    "        return 4\n",
    "    if value >60 and value<=150:\n",
    "        return 5\n",
    "    if value > 150:\n",
    "        return 6"
   ]
  },
  {
   "cell_type": "code",
   "execution_count": null,
   "metadata": {},
   "outputs": [],
   "source": [
    "'''\n",
    "    The data is read and cleaned according using the appropriate features for training the data on. \n",
    "'''"
   ]
  },
  {
   "cell_type": "code",
   "execution_count": 5,
   "metadata": {},
   "outputs": [],
   "source": [
    "df=pd.read_csv(r'Raw_Data/train.csv')"
   ]
  },
  {
   "cell_type": "code",
   "execution_count": 6,
   "metadata": {},
   "outputs": [],
   "source": [
    "df.index=df['PassengerId']\n",
    "df.drop('PassengerId',axis=1,inplace=True)"
   ]
  },
  {
   "cell_type": "code",
   "execution_count": 7,
   "metadata": {},
   "outputs": [],
   "source": [
    "df['male']=pd.get_dummies(df['Sex'])['male']"
   ]
  },
  {
   "cell_type": "code",
   "execution_count": 8,
   "metadata": {},
   "outputs": [],
   "source": [
    "df['Q']=pd.get_dummies(df['Embarked'])['Q']\n",
    "df['S']=pd.get_dummies(df['Embarked'])['S']"
   ]
  },
  {
   "cell_type": "code",
   "execution_count": 9,
   "metadata": {},
   "outputs": [],
   "source": [
    "df['hasCabin']=df['Cabin'].apply(lambda x: 1 if type(x)==str else 0)"
   ]
  },
  {
   "cell_type": "code",
   "execution_count": 10,
   "metadata": {},
   "outputs": [],
   "source": [
    "df=df[df['Age'].notnull()]"
   ]
  },
  {
   "cell_type": "code",
   "execution_count": 11,
   "metadata": {},
   "outputs": [],
   "source": [
    "df['isChildRich']=0\n",
    "df['isChildRich']=df['isChildRich'][df.Age<17][df.Pclass==1].replace(0,1)\n",
    "df['isChildRich'].fillna(0,inplace=True)\n",
    "df['isChildRich']=df['isChildRich'].apply(lambda x: int(x))"
   ]
  },
  {
   "cell_type": "code",
   "execution_count": 12,
   "metadata": {},
   "outputs": [],
   "source": [
    "df['Age_Group']=df['Age'].apply(getAgeGroup)"
   ]
  },
  {
   "cell_type": "code",
   "execution_count": 13,
   "metadata": {},
   "outputs": [],
   "source": [
    "df['Title']=df['Name'].apply(getTitle)"
   ]
  },
  {
   "cell_type": "code",
   "execution_count": 14,
   "metadata": {},
   "outputs": [],
   "source": [
    "df['Fare_Group']=df['Fare'].apply(getFareGroup)"
   ]
  },
  {
   "cell_type": "code",
   "execution_count": 15,
   "metadata": {},
   "outputs": [],
   "source": [
    "x=df[['Pclass','male','SibSp','Title','hasCabin','Fare_Group','Q','S']]\n",
    "y=df['Age']"
   ]
  },
  {
   "cell_type": "code",
   "execution_count": null,
   "metadata": {},
   "outputs": [],
   "source": [
    "'''\n",
    "    A DNN is to be implemented, most of the hidden layers , batch size and epochs were chosen at random to minimize MSE, \n",
    "    didn't want to spend too much time on this doing a more indepth analysis. Seemed to not really give a better return. \n",
    "'''"
   ]
  },
  {
   "cell_type": "code",
   "execution_count": 16,
   "metadata": {},
   "outputs": [],
   "source": [
    "from sklearn.model_selection import train_test_split"
   ]
  },
  {
   "cell_type": "code",
   "execution_count": 17,
   "metadata": {},
   "outputs": [],
   "source": [
    "x_train,x_test,y_train,y_test=train_test_split(x,y,test_size=0.30,random_state=101)"
   ]
  },
  {
   "cell_type": "code",
   "execution_count": 18,
   "metadata": {},
   "outputs": [
    {
     "name": "stderr",
     "output_type": "stream",
     "text": [
      "C:\\Users\\Adam\\Anaconda3\\lib\\site-packages\\h5py\\__init__.py:36: FutureWarning: Conversion of the second argument of issubdtype from `float` to `np.floating` is deprecated. In future, it will be treated as `np.float64 == np.dtype(float).type`.\n",
      "  from ._conv import register_converters as _register_converters\n"
     ]
    }
   ],
   "source": [
    "import tensorflow as tf"
   ]
  },
  {
   "cell_type": "code",
   "execution_count": 19,
   "metadata": {},
   "outputs": [],
   "source": [
    "feat_cols=[]\n",
    "\n",
    "for col in x.columns:\n",
    "    feat_cols.append(tf.feature_column.numeric_column(col))"
   ]
  },
  {
   "cell_type": "code",
   "execution_count": 20,
   "metadata": {},
   "outputs": [
    {
     "name": "stdout",
     "output_type": "stream",
     "text": [
      "INFO:tensorflow:Using default config.\n",
      "WARNING:tensorflow:Using temporary folder as model directory: C:\\Users\\Adam\\AppData\\Local\\Temp\\tmp_uz8vokb\n",
      "INFO:tensorflow:Using config: {'_model_dir': 'C:\\\\Users\\\\Adam\\\\AppData\\\\Local\\\\Temp\\\\tmp_uz8vokb', '_tf_random_seed': None, '_save_summary_steps': 100, '_save_checkpoints_steps': None, '_save_checkpoints_secs': 600, '_session_config': allow_soft_placement: true\n",
      "graph_options {\n",
      "  rewrite_options {\n",
      "    meta_optimizer_iterations: ONE\n",
      "  }\n",
      "}\n",
      ", '_keep_checkpoint_max': 5, '_keep_checkpoint_every_n_hours': 10000, '_log_step_count_steps': 100, '_train_distribute': None, '_device_fn': None, '_protocol': None, '_eval_distribute': None, '_experimental_distribute': None, '_service': None, '_cluster_spec': <tensorflow.python.training.server_lib.ClusterSpec object at 0x000000000E74ECC0>, '_task_type': 'worker', '_task_id': 0, '_global_id_in_cluster': 0, '_master': '', '_evaluation_master': '', '_is_chief': True, '_num_ps_replicas': 0, '_num_worker_replicas': 1}\n"
     ]
    }
   ],
   "source": [
    "input_func = tf.estimator.inputs.pandas_input_fn(x=x_train,y=y_train,batch_size=100,num_epochs=10000,shuffle=True)\n",
    "Regression = tf.estimator.DNNRegressor(hidden_units=[400,200,100,50,25,12,6,3],feature_columns=feat_cols)"
   ]
  },
  {
   "cell_type": "code",
   "execution_count": 21,
   "metadata": {},
   "outputs": [
    {
     "name": "stdout",
     "output_type": "stream",
     "text": [
      "WARNING:tensorflow:From C:\\Users\\Adam\\Anaconda3\\lib\\site-packages\\tensorflow\\python\\estimator\\inputs\\queues\\feeding_queue_runner.py:62: QueueRunner.__init__ (from tensorflow.python.training.queue_runner_impl) is deprecated and will be removed in a future version.\n",
      "Instructions for updating:\n",
      "To construct input pipelines, use the `tf.data` module.\n",
      "WARNING:tensorflow:From C:\\Users\\Adam\\Anaconda3\\lib\\site-packages\\tensorflow\\python\\estimator\\inputs\\queues\\feeding_functions.py:500: add_queue_runner (from tensorflow.python.training.queue_runner_impl) is deprecated and will be removed in a future version.\n",
      "Instructions for updating:\n",
      "To construct input pipelines, use the `tf.data` module.\n",
      "INFO:tensorflow:Calling model_fn.\n",
      "INFO:tensorflow:Done calling model_fn.\n",
      "INFO:tensorflow:Create CheckpointSaverHook.\n",
      "INFO:tensorflow:Graph was finalized.\n",
      "INFO:tensorflow:Running local_init_op.\n",
      "INFO:tensorflow:Done running local_init_op.\n",
      "WARNING:tensorflow:From C:\\Users\\Adam\\Anaconda3\\lib\\site-packages\\tensorflow\\python\\training\\monitored_session.py:804: start_queue_runners (from tensorflow.python.training.queue_runner_impl) is deprecated and will be removed in a future version.\n",
      "Instructions for updating:\n",
      "To construct input pipelines, use the `tf.data` module.\n",
      "INFO:tensorflow:Saving checkpoints for 0 into C:\\Users\\Adam\\AppData\\Local\\Temp\\tmp_uz8vokb\\model.ckpt.\n",
      "INFO:tensorflow:loss = 108500.12, step = 1\n",
      "INFO:tensorflow:global_step/sec: 234.728\n",
      "INFO:tensorflow:loss = 118041.92, step = 101 (0.428 sec)\n",
      "INFO:tensorflow:global_step/sec: 280.096\n",
      "INFO:tensorflow:loss = 106370.11, step = 201 (0.356 sec)\n",
      "INFO:tensorflow:global_step/sec: 281.674\n",
      "INFO:tensorflow:loss = 99841.15, step = 301 (0.354 sec)\n",
      "INFO:tensorflow:global_step/sec: 281.674\n",
      "INFO:tensorflow:loss = 92454.305, step = 401 (0.356 sec)\n",
      "INFO:tensorflow:global_step/sec: 280.883\n",
      "INFO:tensorflow:loss = 91563.39, step = 501 (0.357 sec)\n",
      "INFO:tensorflow:global_step/sec: 270.255\n",
      "INFO:tensorflow:loss = 85895.16, step = 601 (0.369 sec)\n",
      "INFO:tensorflow:global_step/sec: 276.992\n",
      "INFO:tensorflow:loss = 109661.88, step = 701 (0.361 sec)\n",
      "INFO:tensorflow:global_step/sec: 270.987\n",
      "INFO:tensorflow:loss = 122545.53, step = 801 (0.369 sec)\n",
      "INFO:tensorflow:global_step/sec: 276.227\n",
      "INFO:tensorflow:loss = 101591.46, step = 901 (0.362 sec)\n",
      "INFO:tensorflow:global_step/sec: 275.466\n",
      "INFO:tensorflow:loss = 92709.18, step = 1001 (0.362 sec)\n",
      "INFO:tensorflow:global_step/sec: 270.987\n",
      "INFO:tensorflow:loss = 88792.55, step = 1101 (0.370 sec)\n",
      "INFO:tensorflow:global_step/sec: 279.314\n",
      "INFO:tensorflow:loss = 92690.45, step = 1201 (0.358 sec)\n",
      "INFO:tensorflow:global_step/sec: 277.762\n",
      "INFO:tensorflow:loss = 96285.516, step = 1301 (0.359 sec)\n",
      "INFO:tensorflow:global_step/sec: 270.255\n",
      "INFO:tensorflow:loss = 85330.62, step = 1401 (0.371 sec)\n",
      "INFO:tensorflow:global_step/sec: 274.71\n",
      "INFO:tensorflow:loss = 81317.76, step = 1501 (0.364 sec)\n",
      "INFO:tensorflow:global_step/sec: 265.942\n",
      "INFO:tensorflow:loss = 79561.24, step = 1601 (0.376 sec)\n",
      "INFO:tensorflow:global_step/sec: 278.536\n",
      "INFO:tensorflow:loss = 98962.84, step = 1701 (0.359 sec)\n",
      "INFO:tensorflow:global_step/sec: 281.674\n",
      "INFO:tensorflow:loss = 83406.05, step = 1801 (0.355 sec)\n",
      "INFO:tensorflow:global_step/sec: 281.674\n",
      "INFO:tensorflow:loss = 94835.055, step = 1901 (0.355 sec)\n",
      "INFO:tensorflow:global_step/sec: 281.674\n",
      "INFO:tensorflow:loss = 78973.21, step = 2001 (0.355 sec)\n",
      "INFO:tensorflow:global_step/sec: 276.992\n",
      "INFO:tensorflow:loss = 77922.48, step = 2101 (0.360 sec)\n",
      "INFO:tensorflow:global_step/sec: 282.47\n",
      "INFO:tensorflow:loss = 92689.24, step = 2201 (0.354 sec)\n",
      "INFO:tensorflow:global_step/sec: 280.883\n",
      "INFO:tensorflow:loss = 78041.9, step = 2301 (0.356 sec)\n",
      "INFO:tensorflow:global_step/sec: 281.674\n",
      "INFO:tensorflow:loss = 89846.07, step = 2401 (0.356 sec)\n",
      "INFO:tensorflow:global_step/sec: 268.802\n",
      "INFO:tensorflow:loss = 82628.61, step = 2501 (0.374 sec)\n",
      "INFO:tensorflow:global_step/sec: 242.117\n",
      "INFO:tensorflow:loss = 96977.72, step = 2601 (0.412 sec)\n",
      "INFO:tensorflow:global_step/sec: 257.055\n",
      "INFO:tensorflow:loss = 68820.02, step = 2701 (0.387 sec)\n",
      "INFO:tensorflow:global_step/sec: 233.632\n",
      "INFO:tensorflow:loss = 84108.38, step = 2801 (0.428 sec)\n",
      "INFO:tensorflow:global_step/sec: 276.227\n",
      "INFO:tensorflow:loss = 78186.36, step = 2901 (0.363 sec)\n",
      "INFO:tensorflow:global_step/sec: 232.545\n",
      "INFO:tensorflow:loss = 77646.19, step = 3001 (0.431 sec)\n",
      "INFO:tensorflow:global_step/sec: 229.872\n",
      "INFO:tensorflow:loss = 84336.81, step = 3101 (0.434 sec)\n",
      "INFO:tensorflow:global_step/sec: 249.986\n",
      "INFO:tensorflow:loss = 89334.8, step = 3201 (0.400 sec)\n",
      "INFO:tensorflow:global_step/sec: 245.686\n",
      "INFO:tensorflow:loss = 78666.38, step = 3301 (0.407 sec)\n",
      "INFO:tensorflow:global_step/sec: 249.362\n",
      "INFO:tensorflow:loss = 76980.8, step = 3401 (0.401 sec)\n",
      "INFO:tensorflow:global_step/sec: 228.297\n",
      "INFO:tensorflow:loss = 74240.15, step = 3501 (0.439 sec)\n",
      "INFO:tensorflow:global_step/sec: 230.402\n",
      "INFO:tensorflow:loss = 75131.89, step = 3601 (0.432 sec)\n",
      "INFO:tensorflow:global_step/sec: 229.872\n",
      "INFO:tensorflow:loss = 68748.66, step = 3701 (0.436 sec)\n",
      "INFO:tensorflow:global_step/sec: 238.65\n",
      "INFO:tensorflow:loss = 78620.87, step = 3801 (0.419 sec)\n",
      "INFO:tensorflow:global_step/sec: 228.82\n",
      "INFO:tensorflow:loss = 73298.13, step = 3901 (0.437 sec)\n",
      "INFO:tensorflow:global_step/sec: 239.221\n",
      "INFO:tensorflow:loss = 93462.055, step = 4001 (0.418 sec)\n",
      "INFO:tensorflow:global_step/sec: 253.15\n",
      "INFO:tensorflow:loss = 87271.86, step = 4101 (0.395 sec)\n",
      "INFO:tensorflow:global_step/sec: 259.725\n",
      "INFO:tensorflow:loss = 88211.15, step = 4201 (0.385 sec)\n",
      "INFO:tensorflow:global_step/sec: 235.836\n",
      "INFO:tensorflow:loss = 77251.03, step = 4301 (0.423 sec)\n",
      "INFO:tensorflow:global_step/sec: 257.055\n",
      "INFO:tensorflow:loss = 57739.97, step = 4401 (0.390 sec)\n",
      "INFO:tensorflow:global_step/sec: 251.875\n",
      "INFO:tensorflow:loss = 86886.95, step = 4501 (0.397 sec)\n",
      "INFO:tensorflow:global_step/sec: 233.632\n",
      "INFO:tensorflow:loss = 78616.97, step = 4601 (0.427 sec)\n",
      "INFO:tensorflow:global_step/sec: 255.087\n",
      "INFO:tensorflow:loss = 82954.164, step = 4701 (0.393 sec)\n",
      "INFO:tensorflow:global_step/sec: 234.179\n",
      "INFO:tensorflow:loss = 79757.25, step = 4801 (0.427 sec)\n",
      "INFO:tensorflow:global_step/sec: 251.242\n",
      "INFO:tensorflow:loss = 71395.49, step = 4901 (0.398 sec)\n",
      "INFO:tensorflow:global_step/sec: 247.51\n",
      "INFO:tensorflow:loss = 62380.94, step = 5001 (0.404 sec)\n",
      "INFO:tensorflow:global_step/sec: 251.875\n",
      "INFO:tensorflow:loss = 76189.85, step = 5101 (0.397 sec)\n",
      "INFO:tensorflow:global_step/sec: 245.686\n",
      "INFO:tensorflow:loss = 62070.047, step = 5201 (0.407 sec)\n",
      "INFO:tensorflow:global_step/sec: 253.15\n",
      "INFO:tensorflow:loss = 89908.4, step = 5301 (0.395 sec)\n",
      "INFO:tensorflow:global_step/sec: 239.221\n",
      "INFO:tensorflow:loss = 79640.05, step = 5401 (0.418 sec)\n",
      "INFO:tensorflow:global_step/sec: 251.875\n",
      "INFO:tensorflow:loss = 70223.64, step = 5501 (0.397 sec)\n",
      "INFO:tensorflow:global_step/sec: 251.875\n",
      "INFO:tensorflow:loss = 69802.99, step = 5601 (0.397 sec)\n",
      "INFO:tensorflow:global_step/sec: 254.438\n",
      "INFO:tensorflow:loss = 61846.348, step = 5701 (0.393 sec)\n",
      "INFO:tensorflow:global_step/sec: 259.725\n",
      "INFO:tensorflow:loss = 74863.5, step = 5801 (0.385 sec)\n",
      "INFO:tensorflow:global_step/sec: 276.992\n",
      "INFO:tensorflow:loss = 65441.86, step = 5901 (0.361 sec)\n",
      "INFO:tensorflow:global_step/sec: 275.466\n",
      "INFO:tensorflow:loss = 74650.28, step = 6001 (0.363 sec)\n",
      "INFO:tensorflow:global_step/sec: 277.762\n",
      "INFO:tensorflow:loss = 82175.664, step = 6101 (0.359 sec)\n",
      "INFO:tensorflow:global_step/sec: 278.536\n",
      "INFO:tensorflow:loss = 71708.06, step = 6201 (0.360 sec)\n",
      "INFO:tensorflow:global_step/sec: 270.987\n",
      "INFO:tensorflow:loss = 59131.168, step = 6301 (0.369 sec)\n",
      "INFO:tensorflow:global_step/sec: 253.792\n",
      "INFO:tensorflow:loss = 63335.426, step = 6401 (0.393 sec)\n",
      "INFO:tensorflow:global_step/sec: 273.957\n",
      "INFO:tensorflow:loss = 84932.41, step = 6501 (0.367 sec)\n",
      "INFO:tensorflow:global_step/sec: 262.452\n",
      "INFO:tensorflow:loss = 72175.59, step = 6601 (0.379 sec)\n",
      "INFO:tensorflow:global_step/sec: 255.087\n",
      "INFO:tensorflow:loss = 71871.15, step = 6701 (0.392 sec)\n",
      "INFO:tensorflow:global_step/sec: 249.362\n",
      "INFO:tensorflow:loss = 84183.164, step = 6801 (0.402 sec)\n",
      "INFO:tensorflow:global_step/sec: 266.651\n",
      "INFO:tensorflow:loss = 73872.16, step = 6901 (0.375 sec)\n",
      "INFO:tensorflow:global_step/sec: 264.535\n"
     ]
    },
    {
     "name": "stdout",
     "output_type": "stream",
     "text": [
      "INFO:tensorflow:loss = 75764.96, step = 7001 (0.378 sec)\n",
      "INFO:tensorflow:global_step/sec: 263.143\n",
      "INFO:tensorflow:loss = 62974.625, step = 7101 (0.380 sec)\n",
      "INFO:tensorflow:global_step/sec: 273.208\n",
      "INFO:tensorflow:loss = 73503.984, step = 7201 (0.366 sec)\n",
      "INFO:tensorflow:global_step/sec: 265.942\n",
      "INFO:tensorflow:loss = 75440.52, step = 7301 (0.376 sec)\n",
      "INFO:tensorflow:global_step/sec: 274.71\n",
      "INFO:tensorflow:loss = 71449.664, step = 7401 (0.363 sec)\n",
      "INFO:tensorflow:global_step/sec: 270.987\n",
      "INFO:tensorflow:loss = 55901.22, step = 7501 (0.369 sec)\n",
      "INFO:tensorflow:global_step/sec: 281.674\n",
      "INFO:tensorflow:loss = 88560.5, step = 7601 (0.356 sec)\n",
      "INFO:tensorflow:global_step/sec: 263.837\n",
      "INFO:tensorflow:loss = 64299.88, step = 7701 (0.379 sec)\n",
      "INFO:tensorflow:global_step/sec: 275.467\n",
      "INFO:tensorflow:loss = 67640.55, step = 7801 (0.363 sec)\n",
      "INFO:tensorflow:global_step/sec: 278.535\n",
      "INFO:tensorflow:loss = 65459.16, step = 7901 (0.359 sec)\n",
      "INFO:tensorflow:global_step/sec: 264.535\n",
      "INFO:tensorflow:loss = 70789.74, step = 8001 (0.378 sec)\n",
      "INFO:tensorflow:global_step/sec: 270.255\n",
      "INFO:tensorflow:loss = 65359.297, step = 8101 (0.370 sec)\n",
      "INFO:tensorflow:global_step/sec: 284.884\n",
      "INFO:tensorflow:loss = 71707.05, step = 8201 (0.351 sec)\n",
      "INFO:tensorflow:global_step/sec: 273.957\n",
      "INFO:tensorflow:loss = 62367.94, step = 8301 (0.365 sec)\n",
      "INFO:tensorflow:global_step/sec: 268.802\n",
      "INFO:tensorflow:loss = 65060.883, step = 8401 (0.371 sec)\n",
      "INFO:tensorflow:global_step/sec: 273.208\n",
      "INFO:tensorflow:loss = 62289.402, step = 8501 (0.367 sec)\n",
      "INFO:tensorflow:global_step/sec: 275.466\n",
      "INFO:tensorflow:loss = 64721.527, step = 8601 (0.364 sec)\n",
      "INFO:tensorflow:global_step/sec: 268.081\n",
      "INFO:tensorflow:loss = 66064.06, step = 8701 (0.372 sec)\n",
      "INFO:tensorflow:global_step/sec: 263.143\n",
      "INFO:tensorflow:loss = 73940.08, step = 8801 (0.379 sec)\n",
      "INFO:tensorflow:global_step/sec: 266.651\n",
      "INFO:tensorflow:loss = 66485.64, step = 8901 (0.376 sec)\n",
      "INFO:tensorflow:global_step/sec: 265.237\n",
      "INFO:tensorflow:loss = 67931.9, step = 9001 (0.377 sec)\n",
      "INFO:tensorflow:global_step/sec: 270.255\n",
      "INFO:tensorflow:loss = 59796.574, step = 9101 (0.370 sec)\n",
      "INFO:tensorflow:global_step/sec: 279.314\n",
      "INFO:tensorflow:loss = 79840.875, step = 9201 (0.358 sec)\n",
      "INFO:tensorflow:global_step/sec: 268.802\n",
      "INFO:tensorflow:loss = 55345.805, step = 9301 (0.372 sec)\n",
      "INFO:tensorflow:global_step/sec: 245.084\n",
      "INFO:tensorflow:loss = 63090.86, step = 9401 (0.408 sec)\n",
      "INFO:tensorflow:global_step/sec: 269.526\n",
      "INFO:tensorflow:loss = 71661.66, step = 9501 (0.372 sec)\n",
      "INFO:tensorflow:global_step/sec: 217.379\n",
      "INFO:tensorflow:loss = 56231.504, step = 9601 (0.460 sec)\n",
      "INFO:tensorflow:global_step/sec: 263.143\n",
      "INFO:tensorflow:loss = 65961.125, step = 9701 (0.379 sec)\n",
      "INFO:tensorflow:global_step/sec: 257.055\n",
      "INFO:tensorflow:loss = 60589.023, step = 9801 (0.388 sec)\n",
      "INFO:tensorflow:global_step/sec: 249.362\n",
      "INFO:tensorflow:loss = 65286.57, step = 9901 (0.403 sec)\n",
      "INFO:tensorflow:Saving checkpoints for 10000 into C:\\Users\\Adam\\AppData\\Local\\Temp\\tmp_uz8vokb\\model.ckpt.\n",
      "INFO:tensorflow:Loss for final step: 53527.266.\n"
     ]
    },
    {
     "data": {
      "text/plain": [
       "<tensorflow.python.estimator.canned.dnn.DNNRegressor at 0xe74e9b0>"
      ]
     },
     "execution_count": 21,
     "metadata": {},
     "output_type": "execute_result"
    }
   ],
   "source": [
    "Regression.train(input_fn=input_func,steps=10000)"
   ]
  },
  {
   "cell_type": "code",
   "execution_count": 22,
   "metadata": {},
   "outputs": [],
   "source": [
    "pred_fn = tf.estimator.inputs.pandas_input_fn(x=x_test,batch_size=len(x_test),shuffle=False)"
   ]
  },
  {
   "cell_type": "code",
   "execution_count": 23,
   "metadata": {},
   "outputs": [
    {
     "name": "stdout",
     "output_type": "stream",
     "text": [
      "INFO:tensorflow:Calling model_fn.\n",
      "INFO:tensorflow:Done calling model_fn.\n",
      "INFO:tensorflow:Graph was finalized.\n",
      "INFO:tensorflow:Restoring parameters from C:\\Users\\Adam\\AppData\\Local\\Temp\\tmp_uz8vokb\\model.ckpt-10000\n",
      "INFO:tensorflow:Running local_init_op.\n",
      "INFO:tensorflow:Done running local_init_op.\n"
     ]
    }
   ],
   "source": [
    "note_predictions = list(Regression.predict(input_fn=pred_fn))"
   ]
  },
  {
   "cell_type": "code",
   "execution_count": 24,
   "metadata": {},
   "outputs": [],
   "source": [
    "final_preds  = []\n",
    "for pred in note_predictions:\n",
    "    final_preds.append(pred['predictions'][0])"
   ]
  },
  {
   "cell_type": "code",
   "execution_count": 25,
   "metadata": {},
   "outputs": [],
   "source": [
    "from sklearn.metrics import mean_squared_error"
   ]
  },
  {
   "cell_type": "code",
   "execution_count": 26,
   "metadata": {},
   "outputs": [],
   "source": [
    "mse = mean_squared_error(final_preds, y_test)"
   ]
  },
  {
   "cell_type": "code",
   "execution_count": 27,
   "metadata": {},
   "outputs": [
    {
     "data": {
      "text/plain": [
       "612.3424942955535"
      ]
     },
     "execution_count": 27,
     "metadata": {},
     "output_type": "execute_result"
    }
   ],
   "source": [
    "mse"
   ]
  },
  {
   "cell_type": "code",
   "execution_count": 28,
   "metadata": {},
   "outputs": [],
   "source": [
    "compare=pd.DataFrame(index=y_test.index)\n",
    "compare['Age']=y_test\n",
    "compare['Predict']=final_preds"
   ]
  },
  {
   "cell_type": "code",
   "execution_count": 291,
   "metadata": {},
   "outputs": [],
   "source": [
    "from sklearn.linear_model import LinearRegression"
   ]
  },
  {
   "cell_type": "code",
   "execution_count": 292,
   "metadata": {},
   "outputs": [],
   "source": [
    "linear_model=LinearRegression()"
   ]
  },
  {
   "cell_type": "code",
   "execution_count": 293,
   "metadata": {},
   "outputs": [
    {
     "data": {
      "text/plain": [
       "LinearRegression(copy_X=True, fit_intercept=True, n_jobs=1, normalize=False)"
      ]
     },
     "execution_count": 293,
     "metadata": {},
     "output_type": "execute_result"
    }
   ],
   "source": [
    "linear_model.fit(x_train,y_train)"
   ]
  },
  {
   "cell_type": "code",
   "execution_count": 294,
   "metadata": {},
   "outputs": [],
   "source": [
    "linear_predict=linear_model.predict(x_test)"
   ]
  },
  {
   "cell_type": "code",
   "execution_count": 295,
   "metadata": {},
   "outputs": [],
   "source": [
    "compare['linear_predict']=list(linear_predict)"
   ]
  },
  {
   "cell_type": "code",
   "execution_count": 296,
   "metadata": {},
   "outputs": [
    {
     "data": {
      "text/plain": [
       "8"
      ]
     },
     "execution_count": 296,
     "metadata": {},
     "output_type": "execute_result"
    }
   ],
   "source": [
    "len(x_train.columns)"
   ]
  },
  {
   "cell_type": "code",
   "execution_count": 297,
   "metadata": {},
   "outputs": [
    {
     "name": "stdout",
     "output_type": "stream",
     "text": [
      "               Age    Predict  linear_predict\n",
      "PassengerId                                  \n",
      "854          16.00  31.066093       38.235035\n",
      "541          36.00  30.649996       37.207756\n",
      "260          50.00  34.626423       31.282573\n",
      "691          31.00  42.840084       37.087096\n",
      "470           0.75   5.215958       17.549400\n",
      "871          26.00  28.672651       28.316448\n",
      "58           28.50  27.500542       26.293057\n",
      "708          42.00  49.119324       41.069147\n",
      "449           5.00   5.215958       17.549400\n",
      "294          24.00  23.947290       26.509615\n",
      "418          18.00  29.333609       34.183749\n",
      "176          18.00  25.737272       25.361675\n",
      "284          19.00  28.672651       28.316448\n",
      "766          51.00  35.622574       32.379087\n",
      "427          28.00  32.771599       28.327801\n",
      "41           40.00  32.298187       21.680945\n",
      "105          37.00  24.855938       22.406903\n",
      "312          18.00  21.998629       28.247542\n",
      "393          28.00  24.855938       22.406903\n",
      "545          50.00  33.658630       34.036427\n",
      "383          32.00  28.672651       28.316448\n",
      "891          32.00  38.990135       29.117238\n",
      "97           71.00  47.403511       39.045756\n",
      "269          58.00  37.313030       34.306581\n",
      "752           6.00   3.949085       20.945805\n",
      "328          36.00  34.739960       29.714282\n",
      "310          30.00  31.872480       36.211644\n",
      "798          31.00  34.952477       24.635717\n",
      "254          30.00  25.038965       24.334397\n",
      "727          30.00  34.048920       23.445534\n",
      "333          38.00  15.396665       37.987312\n",
      "853           9.00   8.736892       20.504173\n",
      "756           0.67   4.274584       29.288015\n",
      "759          34.00  28.672651       28.316448\n",
      "690          15.00  30.091309       36.180478\n",
      "100          34.00  35.039272       32.008531\n",
      "730          25.00  21.502895       23.554842\n",
      "562          40.00  28.672651       28.316448\n",
      "882          33.00  28.672651       28.316448\n",
      "321          22.00  28.672651       28.316448\n",
      "596          36.00  25.038965       24.334397\n",
      "401          39.00  28.672651       28.316448\n",
      "851           4.00   4.977111       10.695006\n",
      "600          49.00  65.962738       40.685397\n",
      "592          52.00  35.981113       30.355696\n",
      "671          40.00  31.837465       27.300522\n",
      "185           4.00  19.487545       25.482336\n",
      "146          19.00  37.888256       30.981253\n",
      "461          48.00  49.119324       41.069147\n",
      "531           2.00  25.549158       30.201698\n",
      "403          21.00  21.502895       23.554842\n",
      "381          42.00  34.457729       36.752658\n",
      "635           9.00   5.659803       15.590740\n",
      "174          21.00  28.672651       28.316448\n",
      "507          33.00  34.626423       31.282573\n",
      "350          42.00  28.672651       28.316448\n",
      "136          23.00  33.288239       33.967192\n",
      "109          38.00  28.672651       28.316448\n",
      "74           26.00  22.802813       22.311006\n",
      "234           5.00   6.219319       12.635967\n",
      "809          39.00  33.666252       35.990582\n",
      "536           7.00  25.926775       33.156471\n",
      "801          34.00  33.666252       35.990582\n",
      "326          36.00  33.286808       35.184366\n",
      "298           2.00  28.656219       33.225705\n",
      "709          22.00  31.756588       38.776048\n",
      "834          23.00  28.672651       28.316448\n",
      "148           9.00  14.384461       18.545512\n",
      "397          31.00  23.947290       26.509615\n",
      "44            3.00  22.558184       27.151029\n",
      "852          74.00  28.672651       28.316448\n",
      "725          27.00  42.840084       37.087096\n",
      "42           27.00  37.550552       29.355079\n",
      "677          24.50  28.672651       28.316448\n",
      "51            7.00   4.813482        9.667728\n",
      "450          52.00  45.015903       46.690838\n",
      "764          36.00  35.622574       32.379087\n",
      "191          32.00  39.847847       32.309852\n",
      "31           40.00  57.674042       47.263018\n",
      "143          24.00  28.519144       20.653666\n",
      "744          24.00  25.038965       24.334397\n",
      "526          40.50  38.990135       29.117238\n",
      "232          29.00  28.672651       28.316448\n",
      "367          60.00  35.981113       30.355696\n",
      "575          16.00  28.672651       28.316448\n",
      "346          24.00  25.012705       31.588179\n",
      "513          36.00  49.119324       41.069147\n",
      "128          24.00  28.672651       28.316448\n",
      "144          19.00  38.990135       29.117238\n",
      "198          42.00  28.672651       28.316448\n",
      "542           9.00   6.219319       12.635967\n",
      "115          17.00   5.085332       23.458945\n",
      "364          35.00  28.672651       28.316448\n",
      "824          27.00  24.646683       21.012869\n",
      "250          54.00  36.837940       35.756326\n",
      "788           8.00   4.727407       11.495796\n",
      "645           0.75   5.215958       17.549400\n",
      "14           39.00  24.797878       23.307119\n",
      "516          47.00  49.119324       41.069147\n",
      "347          40.00  29.333609       34.183749\n",
      "3            26.00  23.947290       26.509615\n",
      "689          18.00  28.672651       28.316448\n",
      "413          33.00  39.298706       35.053774\n",
      "841          20.00  28.672651       28.316448\n",
      "636          28.00  29.333609       34.183749\n",
      "322          27.00  28.672651       28.316448\n",
      "792          16.00  38.898579       34.963304\n",
      "832           0.83   4.274584       29.288015\n",
      "161          44.00  26.886168       27.289170\n",
      "173           1.00  19.366663       22.527563\n",
      "845          17.00  28.672651       28.316448\n",
      "738          35.00  29.450199       35.963921\n",
      "454          49.00  33.658630       34.036427\n",
      "819          43.00  28.672651       28.316448\n",
      "290          22.00  18.690798       27.310404\n",
      "229          18.00  33.666252       35.990582\n",
      "544          32.00  35.039272       32.008531\n",
      "617          34.00  25.038965       24.334397\n",
      "439          64.00  26.783861       35.032539\n",
      "375           3.00   6.645966       16.618018\n",
      "837          21.00  28.672651       28.316448\n",
      "228          20.50  28.672651       28.316448\n",
      "715          52.00  33.666252       35.990582\n",
      "610          40.00  30.091309       36.180478\n",
      "884          28.00  33.666252       35.990582\n",
      "85           17.00  29.333609       34.183749\n",
      "623          20.00  22.802813       22.311006\n",
      "300          50.00  40.137848       32.283190\n",
      "781          13.00  16.178020       24.486224\n",
      "584          36.00  46.324802       38.018478\n",
      "225          38.00  36.385765       36.059817\n",
      "8             2.00   4.390491       14.677057\n",
      "552          27.00  38.898579       34.963304\n",
      "28           19.00  25.939671       29.122994\n",
      "627          57.00  56.981506       40.539167\n",
      "283          16.00  28.672651       28.316448\n",
      "22           34.00  33.846279       33.395012\n",
      "750          31.00  38.990135       29.117238\n",
      "361          40.00  24.797878       23.307119\n",
      "787          18.00  23.947290       26.509615\n",
      "669          43.00  28.672651       28.316448\n",
      "442          20.00  28.672651       28.316448\n",
      "374          22.00  45.857014       39.586769\n",
      "218          42.00  35.039272       32.008531\n",
      "867          27.00  22.244293       29.205586\n",
      "188          45.00  48.313511       43.664717\n",
      "647          19.00  28.672651       28.316448\n",
      "64            4.00   4.157766       13.649779\n",
      "266          36.00  33.666252       35.990582\n",
      "400          28.00  39.847847       32.309852\n",
      "334          16.00  23.664078       21.379624\n",
      "489          30.00  28.672651       28.316448\n",
      "849          28.00  37.518932       38.711099\n",
      "747          16.00  25.038965       24.334397\n",
      "138          37.00  42.840084       37.087096\n",
      "591          35.00  28.672651       28.316448\n",
      "419          30.00  33.666252       35.990582\n",
      "652          18.00  29.333609       34.183749\n",
      "477          34.00  30.016781       33.035810\n",
      "238           8.00  25.926775       33.156471\n",
      "264          40.00  38.601475       43.123703\n",
      "511          29.00  38.990135       29.117238\n",
      "557          48.00  48.913971       44.500255\n",
      "104          33.00  28.672651       28.316448\n",
      "125          54.00  31.392384       39.014590\n",
      "566          24.00  23.664078       21.379624\n",
      "570          32.00  28.672651       28.316448\n",
      "517          34.00  34.739960       29.714282\n",
      "82           29.00  28.672651       28.316448\n",
      "140          24.00  38.797901       36.991199\n",
      "415          44.00  28.672651       28.316448\n",
      "10           14.00  28.207874       26.304410\n",
      "386          18.00  33.808472       32.908747\n",
      "770          32.00  28.672651       28.316448\n",
      "342          24.00  28.990898       27.316160\n",
      "646          48.00  33.658630       34.036427\n",
      "76           25.00  29.542442       25.720878\n",
      "629          26.00  28.672651       28.316448\n",
      "324          22.00  32.771599       28.327801\n",
      "830          62.00  38.986019       33.310468\n",
      "54           29.00  32.771599       28.327801\n",
      "281          65.00  38.990135       29.117238\n",
      "872          47.00  36.677433       33.406365\n",
      "112          14.50   8.736892       20.504173\n",
      "233          59.00  33.666252       35.990582\n",
      "587          47.00  33.666252       35.990582\n",
      "549          33.00  25.038965       24.334397\n",
      "135          25.00  33.666252       35.990582\n",
      "73           21.00  33.808472       32.908747\n",
      "810          33.00  36.677433       33.406365\n",
      "107          21.00  23.947290       26.509615\n",
      "220          30.00  33.666252       35.990582\n",
      "71           32.00  33.666252       35.990582\n",
      "147          27.00  28.672651       28.316448\n",
      "80           30.00  19.487545       25.482336\n",
      "94           26.00  25.038965       24.334397\n",
      "154          40.50  26.886168       27.289170\n",
      "371          25.00  37.951263       35.063705\n",
      "745          31.00  28.672651       28.316448\n",
      "19           31.00  28.519144       20.653666\n",
      "332          45.50  49.119324       41.069147\n",
      "479          22.00  28.672651       28.316448\n",
      "211          24.00  28.672651       28.316448\n",
      "158          30.00  28.672651       28.316448\n",
      "493          55.00  49.119324       41.069147\n",
      "699          49.00  33.658630       34.036427\n",
      "320          40.00  35.981113       30.355696\n",
      "243          29.00  33.666252       35.990582\n",
      "453          30.00  47.403511       39.045756\n",
      "580          32.00  28.672651       28.316448\n",
      "877          20.00  28.672651       28.316448\n",
      "217          27.00  23.947290       26.509615\n",
      "434          17.00  28.672655       28.316448\n",
      "184           1.00   3.079998       21.683116\n",
      "890          26.00  47.403511       39.045756\n"
     ]
    }
   ],
   "source": [
    "print(compare.to_string())"
   ]
  },
  {
   "cell_type": "code",
   "execution_count": 29,
   "metadata": {},
   "outputs": [],
   "source": [
    "compare['Predict_Age_Group']=compare['Predict'].apply(getAgeGroup)"
   ]
  },
  {
   "cell_type": "code",
   "execution_count": 30,
   "metadata": {},
   "outputs": [],
   "source": [
    "compare['Truee_Age_Group']=compare['Age'].apply(getAgeGroup)"
   ]
  },
  {
   "cell_type": "code",
   "execution_count": 31,
   "metadata": {},
   "outputs": [
    {
     "data": {
      "text/plain": [
       "0.027906976744186046"
      ]
     },
     "execution_count": 31,
     "metadata": {},
     "output_type": "execute_result"
    }
   ],
   "source": [
    "#Quite a low MSE, although an age group miss of 1 can result in a large age difference, the network seemed to guess \n",
    "#the appropriate age groups for low and high ages. The middle values hopefully won't make a difference\n",
    "len(compare[compare['Predict_Age_Group']==compare['Truee_Age_Group']])/len(compare)"
   ]
  },
  {
   "cell_type": "code",
   "execution_count": null,
   "metadata": {},
   "outputs": [],
   "source": [
    "'''\n",
    "    Simply applying the trained network \n",
    "'''"
   ]
  },
  {
   "cell_type": "code",
   "execution_count": 33,
   "metadata": {},
   "outputs": [],
   "source": [
    "predict_age=pd.read_csv(r'Raw_Data/test.csv')"
   ]
  },
  {
   "cell_type": "code",
   "execution_count": 34,
   "metadata": {},
   "outputs": [],
   "source": [
    "predict_age.index=predict_age['PassengerId']\n",
    "predict_age.drop('PassengerId',axis=1,inplace=True)\n",
    "predict_age['male']=pd.get_dummies(predict_age['Sex'])['male']\n",
    "predict_age['Q']=pd.get_dummies(predict_age['Embarked'])['Q']\n",
    "predict_age['S']=pd.get_dummies(predict_age['Embarked'])['S']\n",
    "predict_age['hasCabin']=predict_age['Cabin'].apply(lambda x: 1 if type(x)==str else 0)"
   ]
  },
  {
   "cell_type": "code",
   "execution_count": 35,
   "metadata": {},
   "outputs": [],
   "source": [
    "predict_age['isChildRich']=0\n",
    "predict_age['isChildRich']=predict_age['isChildRich'][predict_age.Age<17][predict_age.Pclass==1].replace(0,1)\n",
    "predict_age['isChildRich'].fillna(0,inplace=True)\n",
    "predict_age['isChildRich']=predict_age['isChildRich'].apply(lambda x: int(x))\n",
    "predict_age['Title']=predict_age['Name'].apply(getTitle)"
   ]
  },
  {
   "cell_type": "code",
   "execution_count": 36,
   "metadata": {},
   "outputs": [],
   "source": [
    "predict_age['Fare_Group']=predict_age['Fare'].apply(getFareGroup)\n",
    "x_age_predict=predict_age[['Pclass','male','SibSp','Title','hasCabin','Fare_Group','Q','S']]"
   ]
  },
  {
   "cell_type": "code",
   "execution_count": 37,
   "metadata": {},
   "outputs": [
    {
     "name": "stdout",
     "output_type": "stream",
     "text": [
      "INFO:tensorflow:Calling model_fn.\n",
      "INFO:tensorflow:Done calling model_fn.\n",
      "INFO:tensorflow:Graph was finalized.\n",
      "INFO:tensorflow:Restoring parameters from C:\\Users\\Adam\\AppData\\Local\\Temp\\tmp_uz8vokb\\model.ckpt-10000\n",
      "INFO:tensorflow:Running local_init_op.\n",
      "INFO:tensorflow:Done running local_init_op.\n"
     ]
    }
   ],
   "source": [
    "age_pred_fn = tf.estimator.inputs.pandas_input_fn(x=x_age_predict,batch_size=len(x_age_predict),shuffle=False)\n",
    "age_note_predictions = list(Regression.predict(input_fn=age_pred_fn))\n",
    "age_final_preds  = []\n",
    "for pred in age_note_predictions:\n",
    "    age_final_preds.append(pred['predictions'][0])"
   ]
  },
  {
   "cell_type": "code",
   "execution_count": 38,
   "metadata": {},
   "outputs": [],
   "source": [
    "comparison_func=pd.read_csv(r'Raw_Data/test.csv')\n",
    "comparison_func['Age_Predict']=age_final_preds\n",
    "comparison_func=comparison_func[['Age','Age_Predict']]"
   ]
  },
  {
   "cell_type": "code",
   "execution_count": 39,
   "metadata": {},
   "outputs": [],
   "source": [
    "comparison_func['Age_Final']=comparison_func['Age']\n",
    "comparison_func['Age_Final'][comparison_func['Age'].isnull()]=comparison_func['Age_Predict'][comparison_func['Age'].isnull()]\n",
    "comparison_func['Age_Final']=round(comparison_func['Age_Final'],0)"
   ]
  },
  {
   "cell_type": "code",
   "execution_count": 40,
   "metadata": {},
   "outputs": [],
   "source": [
    "test_age_updated=pd.read_csv(r'Raw_Data/test.csv')\n",
    "test_age_updated['Age']=comparison_func['Age_Final']\n",
    "test_age_updated.index=test_age_updated['PassengerId']\n",
    "test_age_updated.drop('PassengerId',axis=1,inplace=True)\n",
    "test_age_updated.to_csv('Clean_Data/test.csv', encoding='utf-8', index=True)"
   ]
  },
  {
   "cell_type": "code",
   "execution_count": null,
   "metadata": {},
   "outputs": [],
   "source": []
  },
  {
   "cell_type": "code",
   "execution_count": null,
   "metadata": {},
   "outputs": [],
   "source": []
  },
  {
   "cell_type": "code",
   "execution_count": null,
   "metadata": {},
   "outputs": [],
   "source": []
  }
 ],
 "metadata": {
  "kernelspec": {
   "display_name": "Python 3",
   "language": "python",
   "name": "python3"
  },
  "language_info": {
   "codemirror_mode": {
    "name": "ipython",
    "version": 3
   },
   "file_extension": ".py",
   "mimetype": "text/x-python",
   "name": "python",
   "nbconvert_exporter": "python",
   "pygments_lexer": "ipython3",
   "version": "3.6.5"
  }
 },
 "nbformat": 4,
 "nbformat_minor": 2
}
